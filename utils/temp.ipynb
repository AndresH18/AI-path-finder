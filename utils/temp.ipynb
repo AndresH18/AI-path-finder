{
 "cells": [
  {
   "cell_type": "code",
   "execution_count": null,
   "metadata": {},
   "outputs": [],
   "source": [
    "%pip install osmnx\n",
    "%pip install plotly_express\n",
    "%pip install -r requirements.txt"
   ]
  },
  {
   "cell_type": "code",
   "execution_count": 1,
   "metadata": {},
   "outputs": [],
   "source": [
    "import osmnx as ox\n",
    "import networkx as nx\n",
    "from geopy.geocoders import Nominatim\n",
    "import pandas as pd\n",
    "import geopandas as gpd\n",
    "from shapely.geometry import Point, LineString\n",
    "import plotly_express as px\n",
    "import time"
   ]
  },
  {
   "cell_type": "code",
   "execution_count": null,
   "metadata": {},
   "outputs": [],
   "source": [
    "class Node:\n",
    "    def __init__(self, state, parent=None, get_children_states_fn=None):\n",
    "        self.state = state\n",
    "        self.parent = parent\n",
    "        self.children = []\n",
    "        self.get_children_states_fn = get_children_states_fn\n",
    "    \n",
    "    def add_child(self, state):\n",
    "        child = Node(state=state, parent=self, get_children_states_fn=self.get_children_states_fn)\n",
    "        self.childrent.append(child)\n",
    "\n",
    "    def generate_children(self):\n",
    "        if self.get_children_states_fn:\n",
    "            children_states = self.get_children_states_fn(self.state)\n",
    "            for state in children_states:\n",
    "                if not self.is_ancestor(state):\n",
    "                    self.add_child(state)\n",
    "\n",
    "    def is_ancestor(self, node):\n",
    "        current = self.parent\n",
    "        while current:\n",
    "            if current.state == node.state:\n",
    "                return True\n",
    "            current = current.parent\n",
    "        return False\n",
    "\n",
    "\n",
    "import osmnx as ox\n",
    "\n",
    "# class Map:\n",
    "#     def __init__(self, area: str, start: str, end: str):\n",
    "#         self.start = start\n",
    "#         self.end = end\n",
    "#         self.root = Node(start_location, get_children_states_fn=self.get_children)\n",
    "#         self.nodes = {self.start_location: self.root}\n",
    "#         self.build_tree()\n",
    "\n",
    "#     def build_tree(self):\n",
    "#         # Use a queue for BFS\n",
    "#         queue = [self.root]\n",
    "#         while queue:\n",
    "#             current_node = queue.pop(0)\n",
    "#             current_node.generate_children()\n",
    "#             for child in current_node.children:\n",
    "#                 self.nodes[child.location] = child\n",
    "#                 queue.append(child)\n",
    "\n",
    "#     def get_children(self, location):\n",
    "#         # Fetch data using osmnx and generate children nodes\n",
    "#         children = []\n",
    "#         graph = ox.graph_from_point(location, dist=500, network_type='drive')\n",
    "#         for neighbor in graph.neighbors(location):\n",
    "#             if neighbor not in self.nodes:\n",
    "#                 child_node = Node(neighbor, parent=self.nodes[location], get_children_fn=self.get_children)\n",
    "#                 children.append(child_node)\n",
    "#         return children"
   ]
  }
 ],
 "metadata": {
  "kernelspec": {
   "display_name": "Python 3 (ipykernel)",
   "language": "python",
   "name": "python3"
  },
  "language_info": {
   "codemirror_mode": {
    "name": "ipython",
    "version": 3
   },
   "file_extension": ".py",
   "mimetype": "text/x-python",
   "name": "python",
   "nbconvert_exporter": "python",
   "pygments_lexer": "ipython3",
   "version": "3.10.13"
  }
 },
 "nbformat": 4,
 "nbformat_minor": 2
}
